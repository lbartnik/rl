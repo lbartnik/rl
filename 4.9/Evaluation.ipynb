{
 "cells": [
  {
   "cell_type": "code",
   "execution_count": 188,
   "id": "64887033",
   "metadata": {},
   "outputs": [],
   "source": [
    "import matplotlib.pyplot as plt\n",
    "import seaborn as sns\n",
    "import numpy as np\n",
    "import random"
   ]
  },
  {
   "cell_type": "code",
   "execution_count": 284,
   "id": "29f247b9",
   "metadata": {},
   "outputs": [],
   "source": [
    "#!/usr/bin/python3\n",
    "\n",
    "import pickle\n",
    "import seaborn\n",
    "\n",
    "class ValueIteration:\n",
    "\n",
    "    def __init__(self, ph = .4, win_state = 100):\n",
    "        # state is the amount of money held by the player\n",
    "        self.win_state = win_state\n",
    "        # value of each state is the probability of winning with that much money\n",
    "        self.V = [0 for _ in range(win_state + 1)] # also account for state=0\n",
    "        # once player reaches 100, the win is definite\n",
    "        #self.V[-1] = 1\n",
    "\n",
    "        # policy is the best action to take\n",
    "        self.P = [0 for _ in range(win_state+1)]\n",
    "        self.ph = ph\n",
    "\n",
    "    def possible_actions(self, s):\n",
    "        values = []\n",
    "        # action is the value of the bet; it can go from 1 to s\n",
    "        actions = list(range(0, min(s, self.win_state-s)+1))\n",
    "        for a in actions:\n",
    "            new_state_value = 0\n",
    "            \n",
    "            # lose\n",
    "            next_state = max(0, s-a)\n",
    "            reward = 0\n",
    "            new_state_value += (1-self.ph) * (reward + self.V[next_state])\n",
    "\n",
    "            # win\n",
    "            next_state = min(100, s+a)\n",
    "            reward = 1 if s+a >= self.win_state else 0\n",
    "            new_state_value += self.ph * (reward + self.V[next_state])\n",
    "            \n",
    "            values.append(new_state_value)\n",
    "        return values\n",
    "    \n",
    "    def best_action(self, s):\n",
    "        best_actions, best_value = self.best_actions(s)\n",
    "        #return random.choice(best_actions), best_value\n",
    "        # if only one choice\n",
    "        if len(best_actions) == 1:\n",
    "            return best_actions[0], best_value\n",
    "        # if two choices, don't pick action zero\n",
    "        if len(best_actions) == 2:\n",
    "            if best_actions[0] == 0:\n",
    "                return best_actions[1], best_value\n",
    "            else:\n",
    "                return best_actions[0], best_value\n",
    "        # if multiple actions, don't pick zero nor the last one\n",
    "        return best_actions[1], best_value\n",
    "            \n",
    "    def best_actions(self, s, eps=1e-9):\n",
    "        values = self.possible_actions(s)\n",
    "        best_value = max(values)\n",
    "        return list(map(lambda x: x[0], filter(lambda x: abs(x[1]-best_value) < eps, enumerate(values)))), best_value\n",
    "    \n",
    "    # s is the state: amount of money held\n",
    "    def updateV(self, s):\n",
    "        best_action, best_value = self.best_action(s)\n",
    "        \n",
    "        delta = abs(self.V[s]-best_value)\n",
    "        self.V[s] = best_value\n",
    "        self.P[s] = best_action\n",
    "\n",
    "        return delta\n",
    "\n",
    "    def updateS(self):\n",
    "        delta = 0\n",
    "        states = list(range(1, self.win_state))\n",
    "        #random.shuffle(states)\n",
    "        for s in states:\n",
    "            delta = max(delta, self.updateV(s))\n",
    "        return delta\n",
    "\n",
    "    def loop(self, stop_delta=.000001, stop_iterations=100000):\n",
    "        ans = []\n",
    "        for i in range(stop_iterations):\n",
    "            delta = self.updateS()\n",
    "            ans.append(delta)\n",
    "            print(f\"iteration {i}, delta {delta}\")\n",
    "            if delta < stop_delta:\n",
    "                break\n",
    "        return ans\n",
    "\n",
    "    def save(self, path):\n",
    "        with open(path, \"wb\") as output:\n",
    "            pickle.dump((self.V, self.P, self.ph), output)\n",
    "\n",
    "    def load(self, path):\n",
    "        with open(path, \"rb\") as input:\n",
    "            self.V, self.P, self.ph = pickle.load(input)\n",
    "\n",
    "    def print(self):\n",
    "        for s in range(1, self.win_state):\n",
    "            print(\"state {}: {:.5f}, {}\".format(s, self.V[s], self.P[s]))"
   ]
  },
  {
   "cell_type": "code",
   "execution_count": 285,
   "id": "71b60038",
   "metadata": {},
   "outputs": [
    {
     "name": "stdout",
     "output_type": "stream",
     "text": [
      "iteration 0, delta 0.9533440000000001\n",
      "iteration 1, delta 0.3688960000000001\n",
      "iteration 2, delta 0.13926400000000005\n",
      "iteration 3, delta 0.05570560000000002\n",
      "iteration 4, delta 0.02228224000000001\n",
      "iteration 5, delta 0.008912896000000003\n",
      "iteration 6, delta 0.0016384000000000008\n",
      "iteration 7, delta 0.0003932160000000005\n",
      "iteration 8, delta 7.602595430399994e-05\n",
      "iteration 9, delta 3.041038172160032e-05\n",
      "iteration 10, delta 2.6418075402233343e-06\n",
      "iteration 11, delta 9.045549017728909e-07\n",
      "iteration 12, delta 7.815354352569415e-08\n",
      "iteration 13, delta 1.8756850440893036e-08\n",
      "iteration 14, delta 5.230363003816407e-09\n",
      "iteration 15, delta 1.869841788348925e-09\n",
      "iteration 16, delta 7.479367151660976e-10\n",
      "iteration 17, delta 1.8698417900836484e-10\n",
      "iteration 18, delta 4.8203025772297625e-11\n",
      "iteration 19, delta 1.928121030891905e-11\n",
      "iteration 20, delta 1.6749952119754496e-12\n",
      "iteration 21, delta 5.735177957544302e-13\n",
      "iteration 22, delta 4.955064136780152e-14\n",
      "iteration 23, delta 1.189326415129699e-14\n",
      "iteration 24, delta 3.3150565625916784e-15\n",
      "iteration 25, delta 1.1839487723541708e-15\n",
      "iteration 26, delta 4.735795089416683e-16\n",
      "iteration 27, delta 1.1882855810441129e-16\n",
      "iteration 28, delta 5.551115123125783e-17\n",
      "iteration 29, delta 1.3877787807814457e-17\n",
      "iteration 30, delta 1.3010426069826053e-18\n",
      "iteration 31, delta 4.336808689942018e-19\n"
     ]
    }
   ],
   "source": [
    "vi = ValueIteration()\n",
    "d = vi.loop(stop_delta=0, stop_iterations=32)"
   ]
  },
  {
   "cell_type": "code",
   "execution_count": 286,
   "id": "290c1ae3",
   "metadata": {},
   "outputs": [
    {
     "data": {
      "image/png": "[encoded data removed]",
      "text/plain": [
       "<Figure size 432x288 with 1 Axes>"
      ]
     },
     "metadata": {
      "needs_background": "light"
     },
     "output_type": "display_data"
    }
   ],
   "source": [
    "sns.lineplot(x=range(len(d)), y=d)\n",
    "plt.show()"
   ]
  },
  {
   "cell_type": "code",
   "execution_count": 287,
   "id": "effe11db",
   "metadata": {},
   "outputs": [
    {
     "data": {
      "image/png": "[encoded data removed]",
      "text/plain": [
       "<Figure size 432x288 with 1 Axes>"
      ]
     },
     "metadata": {
      "needs_background": "light"
     },
     "output_type": "display_data"
    }
   ],
   "source": [
    "sns.lineplot(x=range(vi.win_state), y=vi.V[:-1], drawstyle='steps-pre')\n",
    "plt.show()"
   ]
  },
  {
   "cell_type": "code",
   "execution_count": 288,
   "id": "7d9ed691",
   "metadata": {},
   "outputs": [
    {
     "data": {
      "image/png": "[encoded data removed]",
      "text/plain": [
       "<Figure size 432x288 with 1 Axes>"
      ]
     },
     "metadata": {
      "needs_background": "light"
     },
     "output_type": "display_data"
    }
   ],
   "source": [
    "sns.lineplot(x=range(vi.win_state), y=vi.P[:-1], drawstyle='steps-pre')\n",
    "plt.show()"
   ]
  },
  {
   "cell_type": "code",
   "execution_count": 272,
   "id": "aad8242a",
   "metadata": {},
   "outputs": [
    {
     "data": {
      "text/plain": [
       "([0.012910154853401976,\n",
       "  0.01248944223320605,\n",
       "  0.012323908232610366,\n",
       "  0.012365020088434807,\n",
       "  0.012910154853401976],\n",
       " (0, 0.012910154853401976))"
      ]
     },
     "execution_count": 272,
     "metadata": {},
     "output_type": "execute_result"
    }
   ],
   "source": [
    "vi.possible_actions(4), vi.best_action(4)"
   ]
  },
  {
   "cell_type": "code",
   "execution_count": 273,
   "id": "87c07489",
   "metadata": {},
   "outputs": [
    {
     "data": {
      "text/plain": [
       "[(1, 0, 0.0020656247765443165),\n",
       " (2, 0, 0.005164061941360791),\n",
       " (3, 0, 0.009225471067793893),\n",
       " (4, 0, 0.012910154853401976),\n",
       " (5, 0, 0.017385398981324286),\n",
       " (6, 0, 0.02306367766948473),\n",
       " (7, 0, 0.02781411305627054),\n",
       " (8, 0, 0.03227538713350494),\n",
       " (9, 0, 0.03768507279536644),\n",
       " (10, 0, 0.04346349745331071),\n",
       " (11, 0, 0.05035446998069344),\n",
       " (12, 0, 0.05765919417371182),\n",
       " (13, 0, 0.06523937486592661),\n",
       " (14, 0, 0.06953528264067635),\n",
       " (15, 0, 0.07443123938879459),\n",
       " (16, 0, 0.08068846783376235),\n",
       " (17, 0, 0.08661104367721989),\n",
       " (18, 0, 0.09421268198841609),\n",
       " (19, 0, 0.10314362491955598),\n",
       " (20, 0, 0.10865874363327677),\n",
       " (21, 0, 0.11596662620633194),\n",
       " (22, 0, 0.1258861749517336),\n",
       " (23, 0, 0.13357997572379918),\n",
       " (24, 0, 0.14414798543427954),\n",
       " (25, 0, 0.16000000000000003),\n",
       " (26, 0, 0.1630984371648165),\n",
       " (27, 0, 0.16774609291204123),\n",
       " (28, 0, 0.17383820660169086),\n",
       " (29, 0, 0.17936523228010298),\n",
       " (30, 0, 0.18607809847198648),\n",
       " (31, 0, 0.19459551650422713),\n",
       " (32, 0, 0.20172116958440586),\n",
       " (33, 0, 0.20841308070025744),\n",
       " (34, 0, 0.2165276091930497),\n",
       " (35, 0, 0.2251952461799661),\n",
       " (36, 0, 0.2355317049710402),\n",
       " (37, 0, 0.24648879126056777),\n",
       " (38, 0, 0.25785906229888994),\n",
       " (39, 0, 0.26430292396101457),\n",
       " (40, 0, 0.2716468590831919),\n",
       " (41, 0, 0.28103270175064354),\n",
       " (42, 0, 0.28991656551582984),\n",
       " (43, 0, 0.30131902298262414),\n",
       " (44, 0, 0.314715437379334),\n",
       " (45, 0, 0.3229881154499152),\n",
       " (46, 0, 0.3339499393094979),\n",
       " (47, 0, 0.34882926242760043),\n",
       " (48, 0, 0.3603699635856987),\n",
       " (49, 0, 0.37622197815141933),\n",
       " (50, 0, 0.4),\n",
       " (51, 0, 0.4030984371648165),\n",
       " (52, 0, 0.4077460929120412),\n",
       " (53, 0, 0.41383820660169085),\n",
       " (54, 0, 0.41936523228010303),\n",
       " (55, 0, 0.42607809847198647),\n",
       " (56, 0, 0.4345955165042271),\n",
       " (57, 0, 0.4417211695844059),\n",
       " (58, 0, 0.4484130807002574),\n",
       " (59, 0, 0.4565276091930497),\n",
       " (60, 0, 0.4651952461799661),\n",
       " (61, 0, 0.47553170497104025),\n",
       " (62, 0, 0.48648879126056777),\n",
       " (63, 0, 0.49785906229888993),\n",
       " (64, 0, 0.5043029239610146),\n",
       " (65, 0, 0.511646859083192),\n",
       " (66, 0, 0.5210327017506435),\n",
       " (67, 0, 0.5299165655158298),\n",
       " (68, 0, 0.5413190229826241),\n",
       " (69, 0, 0.5547154373793339),\n",
       " (70, 0, 0.5629881154499152),\n",
       " (71, 0, 0.5739499393094979),\n",
       " (72, 0, 0.5888292624276004),\n",
       " (73, 0, 0.6003699635856987),\n",
       " (74, 0, 0.6162219781514193),\n",
       " (75, 0, 0.64),\n",
       " (76, 0, 0.6446476557472247),\n",
       " (77, 0, 0.6516191393680618),\n",
       " (78, 0, 0.6607573099025363),\n",
       " (79, 0, 0.6690478484201545),\n",
       " (80, 0, 0.6791171477079796),\n",
       " (81, 0, 0.6918932747563407),\n",
       " (82, 0, 0.7025817543766089),\n",
       " (83, 0, 0.7126196210503861),\n",
       " (84, 0, 0.7247914137895746),\n",
       " (85, 0, 0.7377928692699491),\n",
       " (86, 0, 0.7532975574565602),\n",
       " (87, 0, 0.7697331868908517),\n",
       " (88, 0, 0.7867885934483348),\n",
       " (89, 0, 0.7964543859415218),\n",
       " (90, 0, 0.8074702886247878),\n",
       " (91, 0, 0.8215490526259653),\n",
       " (92, 0, 0.8348748482737447),\n",
       " (93, 0, 0.8519785344739361),\n",
       " (94, 0, 0.8720731560690009),\n",
       " (95, 0, 0.8844821731748727),\n",
       " (96, 0, 0.9009249089642468),\n",
       " (97, 0, 0.9232438936414006),\n",
       " (98, 0, 0.9405549453785482),\n",
       " (99, 0, 0.9643329672271289)]"
      ]
     },
     "execution_count": 273,
     "metadata": {},
     "output_type": "execute_result"
    }
   ],
   "source": [
    "[(x,) + vi.best_action(x) for x in range(1, 100)]"
   ]
  },
  {
   "cell_type": "code",
   "execution_count": 264,
   "id": "a3294dfb",
   "metadata": {},
   "outputs": [
    {
     "data": {
      "text/plain": [
       "(9, 0.08068846783376235)"
      ]
     },
     "execution_count": 264,
     "metadata": {},
     "output_type": "execute_result"
    }
   ],
   "source": [
    "s=16\n",
    "vi.best_action(s)"
   ]
  },
  {
   "cell_type": "code",
   "execution_count": 265,
   "id": "59ee7354",
   "metadata": {},
   "outputs": [
    {
     "data": {
      "text/plain": [
       "[(7, 0.07604303396673953),\n",
       " (6, 0.07643256845267987),\n",
       " (5, 0.07659933247094884),\n",
       " (8, 0.07702442645381478),\n",
       " (13, 0.07728137555271752),\n",
       " (12, 0.07728137555271754),\n",
       " (11, 0.07752967655361107),\n",
       " (14, 0.07752967655361107),\n",
       " (4, 0.07805901395753781),\n",
       " (10, 0.07907758146761745),\n",
       " (15, 0.07907758146761745),\n",
       " (1, 0.07930316110416472),\n",
       " (2, 0.07940624237977226),\n",
       " (3, 0.08040107488737835),\n",
       " (9, 0.08068846783376234),\n",
       " (0, 0.08068846783376235),\n",
       " (16, 0.08068846783376235)]"
      ]
     },
     "execution_count": 265,
     "metadata": {},
     "output_type": "execute_result"
    }
   ],
   "source": [
    "a=np.array(vi.possible_actions(s))\n",
    "b=list(enumerate(a))\n",
    "b.sort(key=lambda x: x[1])\n",
    "b"
   ]
  },
  {
   "cell_type": "code",
   "execution_count": 266,
   "id": "748e982c",
   "metadata": {},
   "outputs": [
    {
     "data": {
      "text/plain": [
       "<AxesSubplot:>"
      ]
     },
     "execution_count": 266,
     "metadata": {},
     "output_type": "execute_result"
    },
    {
     "data": {
      "image/png": "[encoded data removed]",
      "text/plain": [
       "<Figure size 432x288 with 1 Axes>"
      ]
     },
     "metadata": {
      "needs_background": "light"
     },
     "output_type": "display_data"
    }
   ],
   "source": [
    "sns.lineplot(x=range(len(a)), y=a-a.min())"
   ]
  },
  {
   "cell_type": "code",
   "execution_count": null,
   "id": "8c128cd5",
   "metadata": {},
   "outputs": [],
   "source": []
  }
 ],
 "metadata": {
  "kernelspec": {
   "display_name": "Python 3 (ipykernel)",
   "language": "python",
   "name": "python3"
  },
  "language_info": {
   "codemirror_mode": {
    "name": "ipython",
    "version": 3
   },
   "file_extension": ".py",
   "mimetype": "text/x-python",
   "name": "python",
   "nbconvert_exporter": "python",
   "pygments_lexer": "ipython3",
   "version": "3.9.7"
  }
 },
 "nbformat": 4,
 "nbformat_minor": 5
}
